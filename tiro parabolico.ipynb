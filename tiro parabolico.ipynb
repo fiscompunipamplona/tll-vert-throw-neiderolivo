{
 "cells": [
  {
   "cell_type": "code",
   "execution_count": 1,
   "metadata": {},
   "outputs": [],
   "source": [
    "from numpy import array, linspace, shape,matrix,transpose\n",
    "from math import sin, cos, pi,sqrt,atan\n",
    "from scipy.integrate import odeint\n"
   ]
  },
  {
   "cell_type": "code",
   "execution_count": 27,
   "metadata": {},
   "outputs": [
    {
     "ename": "SyntaxError",
     "evalue": "invalid syntax (<ipython-input-27-3c5f943886fb>, line 22)",
     "output_type": "error",
     "traceback": [
      "\u001b[0;36m  File \u001b[0;32m\"<ipython-input-27-3c5f943886fb>\"\u001b[0;36m, line \u001b[0;32m22\u001b[0m\n\u001b[0;31m    hp=\u001b[0m\n\u001b[0m       ^\u001b[0m\n\u001b[0;31mSyntaxError\u001b[0m\u001b[0;31m:\u001b[0m invalid syntax\n"
     ]
    }
   ],
   "source": [
    "def funcion(f,t,ho,g):\n",
    "    dy=-g\n",
    "    y=f[0]\n",
    "   \n",
    "    return array ([dy,y])\n",
    "g=9.8\n",
    "vo=0\n",
    "ho=0\n",
    "ti=0\n",
    "tf=10\n",
    "n=100\n",
    "error=1e-10 \n",
    "t=linspace(ti,tf,n)\n",
    "condin=array([ho,vo])\n",
    "solf=odeint(funcion,condin,t,args=(ho,g))\n",
    "v1=0.01\n",
    "v2=1000\n",
    "#h1=odeint\n",
    "#h2=odeint\n",
    "while abs()>error:\n",
    "    vp=(v1+v2)/2\n",
    "    hp=odeint \n",
    "    if h1*hp>0:\n",
    "        v1=vp\n",
    "        h1=hp\n",
    "    else:\n",
    "        v2=vp\n",
    "        h2=hp\n",
    "v=(v1+v2)/2\n",
    "print(\"la velocidad requerida es\",v,\"m/s\")\n",
    "\n",
    "\n",
    "#while ti<tf:\n",
    "   # posicion=solf[ti,1]\n",
    "   # print(posicion)\n",
    "   # ti=ti+1\n"
   ]
  },
  {
   "cell_type": "code",
   "execution_count": null,
   "metadata": {},
   "outputs": [],
   "source": []
  }
 ],
 "metadata": {
  "kernelspec": {
   "display_name": "Python 3",
   "language": "python",
   "name": "python3"
  },
  "language_info": {
   "codemirror_mode": {
    "name": "ipython",
    "version": 3
   },
   "file_extension": ".py",
   "mimetype": "text/x-python",
   "name": "python",
   "nbconvert_exporter": "python",
   "pygments_lexer": "ipython3",
   "version": "3.5.2"
  }
 },
 "nbformat": 4,
 "nbformat_minor": 2
}
